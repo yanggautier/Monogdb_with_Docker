{
 "cells": [
  {
   "cell_type": "markdown",
   "id": "5a6e1ab4",
   "metadata": {},
   "source": [
    "## Maintenez et documentez un système de stockage des données sécurisé et performant"
   ]
  },
  {
   "cell_type": "markdown",
   "id": "5e49e635",
   "metadata": {},
   "source": [
    "### Importation des librairies nécessaire"
   ]
  },
  {
   "cell_type": "code",
   "execution_count": 32,
   "id": "6f755a69",
   "metadata": {},
   "outputs": [],
   "source": [
    "import pandas as pd\n",
    "from pymongo import MongoClient\n",
    "import json\n",
    "import os\n",
    "from dotenv import load_dotenv\n",
    "from bson.objectid import ObjectId\n",
    "import unittest"
   ]
  },
  {
   "cell_type": "code",
   "execution_count": 33,
   "id": "39ed4989",
   "metadata": {},
   "outputs": [
    {
     "data": {
      "text/plain": [
       "True"
      ]
     },
     "execution_count": 33,
     "metadata": {},
     "output_type": "execute_result"
    }
   ],
   "source": [
    "# Lire les variables d'environnement qui se trouve dans le fichier .env\n",
    "load_dotenv()"
   ]
  },
  {
   "cell_type": "markdown",
   "id": "a969a052",
   "metadata": {},
   "source": [
    "Définir les variables"
   ]
  },
  {
   "cell_type": "code",
   "execution_count": 39,
   "id": "b47dba1c",
   "metadata": {},
   "outputs": [],
   "source": [
    "csv_file=os.getenv('DATA')\n",
    "db_name=os.getenv('DB')\n",
    "collection_name=os.getenv('COLLECTION')\n",
    "mongodb_uri=os.getenv('MONGODB_URI')"
   ]
  },
  {
   "cell_type": "code",
   "execution_count": 41,
   "id": "f25d74bb",
   "metadata": {},
   "outputs": [],
   "source": [
    "client = MongoClient(mongodb_uri)\n",
    "db = client[db_name]\n",
    "collection = db[collection_name]"
   ]
  },
  {
   "cell_type": "markdown",
   "id": "d191feeb",
   "metadata": {},
   "source": [
    "### Insertion de données dans mongodb via Pandas"
   ]
  },
  {
   "cell_type": "code",
   "execution_count": 5,
   "id": "10a27729",
   "metadata": {},
   "outputs": [
    {
     "name": "stdout",
     "output_type": "stream",
     "text": [
      " 55500 documents insérés\n"
     ]
    }
   ],
   "source": [
    "df = pd.read_csv(csv_file)\n",
    "\n",
    "# Convertir le DataFrame Pandas à  une list de dictionaries\n",
    "records = json.loads(df.to_json(orient='records'))\n",
    "\n",
    "# Connecter à MongoDB\n",
    "client = MongoClient(mongodb_uri)\n",
    "db = client[db_name]\n",
    "collection = db[collection_name]\n",
    "\n",
    "# Insertions des données\n",
    "result = collection.insert_many(records)\n",
    "\n",
    "print(f\" {len(result.inserted_ids)} documents insérés\")"
   ]
  },
  {
   "cell_type": "markdown",
   "id": "93026225",
   "metadata": {},
   "source": [
    "### CRUD"
   ]
  },
  {
   "cell_type": "markdown",
   "id": "b46e8a63",
   "metadata": {},
   "source": [
    "#### Create"
   ]
  },
  {
   "cell_type": "code",
   "execution_count": 42,
   "id": "876ab728",
   "metadata": {},
   "outputs": [
    {
     "data": {
      "text/plain": [
       "InsertOneResult(ObjectId('67387f69dfdb7b48533b98b0'), acknowledged=True)"
      ]
     },
     "execution_count": 42,
     "metadata": {},
     "output_type": "execute_result"
    }
   ],
   "source": [
    "collection.insert_one({\n",
    "    \"Name\": \"Jean Pierre\",\n",
    "    \"Age\": 26,\n",
    "    \"Gender\": \"Male\",\n",
    "    \"Blood Type\" : \"A\"\n",
    "})"
   ]
  },
  {
   "cell_type": "markdown",
   "id": "19db3241",
   "metadata": {},
   "source": [
    "#### Read"
   ]
  },
  {
   "cell_type": "code",
   "execution_count": 43,
   "id": "4424a64d",
   "metadata": {},
   "outputs": [
    {
     "data": {
      "text/plain": [
       "{'_id': ObjectId('67387f69dfdb7b48533b98b0'),\n",
       " 'Name': 'Jean Pierre',\n",
       " 'Age': 26,\n",
       " 'Gender': 'Male',\n",
       " 'Blood Type': 'A'}"
      ]
     },
     "execution_count": 43,
     "metadata": {},
     "output_type": "execute_result"
    }
   ],
   "source": [
    "collection.find_one({\"Name\": \"Jean Pierre\"})"
   ]
  },
  {
   "cell_type": "markdown",
   "id": "10decf4a",
   "metadata": {},
   "source": [
    "#### Update"
   ]
  },
  {
   "cell_type": "code",
   "execution_count": 44,
   "id": "4e4e4a83",
   "metadata": {},
   "outputs": [
    {
     "data": {
      "text/plain": [
       "UpdateResult({'n': 1, 'nModified': 1, 'ok': 1.0, 'updatedExisting': True}, acknowledged=True)"
      ]
     },
     "execution_count": 44,
     "metadata": {},
     "output_type": "execute_result"
    }
   ],
   "source": [
    "myquery = {\"Name\":\"Jean Pierre\"}\n",
    "newvalues = {\"$set\": {\"Age\": 27}}\n",
    "collection.update_one(myquery, newvalues)"
   ]
  },
  {
   "cell_type": "code",
   "execution_count": 45,
   "id": "f0b91fd1",
   "metadata": {},
   "outputs": [
    {
     "data": {
      "text/plain": [
       "{'_id': ObjectId('67387f69dfdb7b48533b98b0'),\n",
       " 'Name': 'Jean Pierre',\n",
       " 'Age': 27,\n",
       " 'Gender': 'Male',\n",
       " 'Blood Type': 'A'}"
      ]
     },
     "execution_count": 45,
     "metadata": {},
     "output_type": "execute_result"
    }
   ],
   "source": [
    "collection.find_one({\"Name\": \"Jean Pierre\"})"
   ]
  },
  {
   "cell_type": "markdown",
   "id": "8805960d",
   "metadata": {},
   "source": [
    "#### Delete"
   ]
  },
  {
   "cell_type": "code",
   "execution_count": 46,
   "id": "1edd3f59",
   "metadata": {},
   "outputs": [
    {
     "data": {
      "text/plain": [
       "DeleteResult({'n': 0, 'ok': 1.0}, acknowledged=True)"
      ]
     },
     "execution_count": 46,
     "metadata": {},
     "output_type": "execute_result"
    }
   ],
   "source": [
    "myquery = {'_id': ObjectId('6737bd27dfdb7b48533b98aa')}\n",
    "collection.delete_one(myquery)"
   ]
  },
  {
   "cell_type": "code",
   "execution_count": 47,
   "id": "b9ba7181",
   "metadata": {},
   "outputs": [],
   "source": [
    "result = collection.find_one({\"Name\": \"Jean Pierre\"})"
   ]
  },
  {
   "cell_type": "markdown",
   "id": "7c8d02ab",
   "metadata": {},
   "source": [
    "### Tester l’intégrité"
   ]
  },
  {
   "cell_type": "code",
   "execution_count": null,
   "id": "d7b56ba1",
   "metadata": {},
   "outputs": [],
   "source": [
    "# colonnes disponibles, \n",
    "# types des variables, doublons, valeurs manquantes"
   ]
  },
  {
   "cell_type": "code",
   "execution_count": 24,
   "id": "0512a6dd",
   "metadata": {},
   "outputs": [
    {
     "data": {
      "text/plain": [
       "55500"
      ]
     },
     "execution_count": 24,
     "metadata": {},
     "output_type": "execute_result"
    }
   ],
   "source": [
    "collection.count_documents({})"
   ]
  },
  {
   "cell_type": "code",
   "execution_count": 26,
   "id": "dccecaf1",
   "metadata": {},
   "outputs": [],
   "source": [
    "class TestConnection(unittest.TestCase):\n",
    "    def setUp(self):\n",
    "            \"\"\"Configuration initiale avant chaque test\"\"\"\n",
    "            self.uri =os.getenv('MONGODB_URI')\n",
    "            self.db_name = os.getenv('DB')\n",
    "            \n",
    "    def test_real_connection(self):\n",
    "        \"\"\"Test d'une vraie connexion à MongoDB\"\"\"\n",
    "        try:\n",
    "            # Tentative de connexion\n",
    "            client = MongoClient(self.uri, serverSelectionTimeoutMS=2000)\n",
    "            # Force une connexion en exécutant une commande\n",
    "            client.admin.command('ping')\n",
    "            \n",
    "            self.assertTrue(True)  # Si on arrive ici, la connexion est réussie\n",
    "            \n",
    "        except ConnectionFailure:\n",
    "            self.fail(\"La connexion à MongoDB a échoué\")\n",
    "            \n",
    "        finally:\n",
    "            if 'client' in locals():\n",
    "                client.close()\n",
    "                \n",
    "    def test_database_creation(self):\n",
    "        \"\"\"Test de création d'une base de données\"\"\"\n",
    "        try:\n",
    "            client = MongoClient(self.uri)\n",
    "            db = client[self.db_name]\n",
    "            \n",
    "            # Création d'une collection pour tester\n",
    "            collection = db.test_collection\n",
    "            result = collection.insert_one({\"test\": \"data\"})\n",
    "            \n",
    "            # Vérification que l'insertion a fonctionné\n",
    "            self.assertTrue(result.inserted_id is not None)\n",
    "            \n",
    "            # Nettoyage\n",
    "            client.drop_database(self.db_name)\n",
    "            \n",
    "        finally:\n",
    "            if 'client' in locals():\n",
    "                client.close()\n"
   ]
  },
  {
   "cell_type": "code",
   "execution_count": 27,
   "id": "eac59566",
   "metadata": {},
   "outputs": [],
   "source": [
    "class TestOperations(unittest.TestCase):\n",
    "    @classmethod\n",
    "    def setUpClass(cls):\n",
    "        \"\"\"Configuration initiale pour la classe de test\"\"\"\n",
    "        cls.client = MongoClient(\"mongodb://localhost:27017\")\n",
    "        cls.db = cls.client.test_database\n",
    "        cls.collection = cls.db.test_collection\n",
    "\n",
    "    def setUp(self):\n",
    "        \"\"\"Nettoie la collection avant chaque test\"\"\"\n",
    "        self.collection.delete_many({})\n",
    "\n",
    "    def test_insert_and_find(self):\n",
    "        \"\"\"Test d'insertion et de recherche\"\"\"\n",
    "        test_data = {\"name\": \"test\", \"value\": 123}\n",
    "        result = self.collection.insert_one(test_data)\n",
    "        self.assertTrue(result.inserted_id is not None)\n",
    "        found = self.collection.find_one({\"name\": \"test\"})\n",
    "        self.assertIsNotNone(found)\n",
    "        self.assertEqual(found[\"value\"], 123)\n",
    "\n",
    "    def test_update(self):\n",
    "        \"\"\"Test de mise à jour\"\"\"\n",
    "        initial_data = {\"name\": \"test\", \"value\": 123}\n",
    "        self.collection.insert_one(initial_data)\n",
    "        result = self.collection.update_one(\n",
    "            {\"name\": \"test\"},\n",
    "            {\"$set\": {\"value\": 456}}\n",
    "        )\n",
    "        self.assertEqual(result.modified_count, 1)\n",
    "        updated = self.collection.find_one({\"name\": \"test\"})\n",
    "        self.assertEqual(updated[\"value\"], 456)\n",
    "\n",
    "    @classmethod\n",
    "    def tearDownClass(cls):\n",
    "        \"\"\"Nettoyage après tous les tests\"\"\"\n",
    "        cls.client.drop_database(\"test_database\")\n",
    "        cls.client.close()"
   ]
  },
  {
   "cell_type": "code",
   "execution_count": 49,
   "id": "01c2e94d",
   "metadata": {},
   "outputs": [
    {
     "data": {
      "text/plain": [
       "{'_id': ObjectId('6737b864dfdb7b48533abfde'),\n",
       " 'Name': 'Bobby JacksOn',\n",
       " 'Age': 30,\n",
       " 'Gender': 'Male',\n",
       " 'Blood Type': 'B-',\n",
       " 'Medical Condition': 'Cancer',\n",
       " 'Date of Admission': '2024-01-31',\n",
       " 'Doctor': 'Matthew Smith',\n",
       " 'Hospital': 'Sons and Miller',\n",
       " 'Insurance Provider': 'Blue Cross',\n",
       " 'Billing Amount': 18856.2813059782,\n",
       " 'Room Number': 328,\n",
       " 'Admission Type': 'Urgent',\n",
       " 'Discharge Date': '2024-02-02',\n",
       " 'Medication': 'Paracetamol',\n",
       " 'Test Results': 'Normal'}"
      ]
     },
     "execution_count": 49,
     "metadata": {},
     "output_type": "execute_result"
    }
   ],
   "source": [
    "collection.find_one({})"
   ]
  },
  {
   "cell_type": "code",
   "execution_count": null,
   "id": "fe3362dc",
   "metadata": {},
   "outputs": [],
   "source": [
    "import unittest\n",
    "from pymongo import MongoClient\n",
    "from datetime import datetime\n",
    "from bson import ObjectId\n",
    "import re\n",
    "\n",
    "class TestMongoDBIntegrity(unittest.TestCase):\n",
    "    @classmethod\n",
    "    def setUpClass(cls):\n",
    "        \"\"\"Configuration initiale de la connexion\"\"\"\n",
    "        cls.client = MongoClient(\"mongodb://localhost:27017\")\n",
    "        cls.db = cls.client.test_database\n",
    "        \n",
    "        # Définition du schéma de validation\n",
    "        cls.user_schema = {\n",
    "            \"$jsonSchema\": {\n",
    "                \"bsonType\": \"object\",\n",
    "                \"required\": [\"Name\", \n",
    "                             \"Age\", \n",
    "                             \"Gender\", \n",
    "                             \"Blood Type\", \n",
    "                             \"Medical Condition\", \n",
    "                             \"Date of Admission\",\n",
    "                             \"Doctor\",\n",
    "                             \"Hospital\",\n",
    "                             \"Insurance Provider\",\n",
    "                             \"Billing Amount\",\n",
    "                             \"Room Number\",\n",
    "                             \"Admission Type\",\n",
    "                             \"Discharge Date\",\n",
    "                             \"Medication\",\n",
    "                             \"Test Results\"\n",
    "                            ],\n",
    "                \"properties\": {\n",
    "                    \"Name\": {\n",
    "                        \"bsonType\": \"string\",\n",
    "                        \"minLength\": 6,\n",
    "                        \"maxLength\": 100\n",
    "                    },\n",
    "                    \"age\": {\n",
    "                        \"bsonType\": [\"int\", \"null\"],\n",
    "                        \"minimum\": 0,\n",
    "                        \"maximum\": 120\n",
    "                    },\n",
    "                    \"Gender\": {\n",
    "                        \"bsonType\": [\"string\", \"null\"],\n",
    "                        \"minLength\": 1,\n",
    "                        \"maxLength\": 10 \n",
    "                    },\n",
    "                    \"Blood Type\": {\n",
    "                        \"bsonType\": [\"string\", \"null\"],\n",
    "                        \"minLength\": 1,\n",
    "                        \"maxLength\": 5 \n",
    "                    },\n",
    "                    \"Medical Condition\": {\n",
    "                        \"bsonType\": [\"string\", \"null\"],\n",
    "                        \"minLength\": 3,\n",
    "                        \"maxLength\": 50 \n",
    "                    }, \n",
    "                    \"Date of Admission\": {\n",
    "                        \"bsonType\": \"date\"\n",
    "                    },\n",
    "                    \"Doctor\": {\n",
    "                        \"bsonType\": [\"string\", \"null\"],\n",
    "                        \"minLength\": 3,\n",
    "                        \"maxLength\": 50 \n",
    "                    },\n",
    "                    \"Hospital\": {\n",
    "                        \"bsonType\": [\"string\", \"null\"],\n",
    "                        \"minLength\": 3,\n",
    "                        \"maxLength\": 50 \n",
    "                    },\n",
    "                    \"Insurance Provider\": {\n",
    "                        \"bsonType\": [\"string\", \"null\"],\n",
    "                        \"minLength\": 3,\n",
    "                        \"maxLength\": 50 \n",
    "                    },\n",
    "                    \"Billing Amount\": {\n",
    "                        \"bsonType\": [\"float\", \"null\"],\n",
    "                        \"minLength\": 0\n",
    "                    },\n",
    "                    \n",
    "                    \"Room Number\": {\n",
    "                        \"bsonType\": [\"string\", \"null\", 'int']\n",
    "                    },\n",
    "                    \"Admission Type\":{\n",
    "                        \"bsonType\": [\"string\", \"null\"],\n",
    "                        \"minLength\": 3,\n",
    "                        \"maxLength\": 50 \n",
    "                    },\n",
    "                    \"Discharge Date\": {\n",
    "                        \"bsonType\": [\"date\", \"null\"]\n",
    "                    },\n",
    "                    \"Medication\":{\n",
    "                        \"bsonType\": [\"string\", \"null\"],\n",
    "                        \"minLength\": 3,\n",
    "                        \"maxLength\": 50 \n",
    "                    },\n",
    "                    \"Test Results\": {\n",
    "                        \"bsonType\": [\"string\", \"null\"],\n",
    "                        \"minLength\": 3,\n",
    "                        \"maxLength\": 50 \n",
    "                    }\n",
    "                }\n",
    "            }\n",
    "        }\n",
    "\n",
    "    def setUp(self):\n",
    "        \"\"\"Préparation avant chaque test\"\"\"\n",
    "        # Création d'une nouvelle collection avec validation\n",
    "        if \"users\" in self.db.list_collection_names():\n",
    "            self.db.users.drop()\n",
    "        self.db.create_collection(\"users\", validator=self.user_schema)\n",
    "        self.users = self.db.users\n",
    "\n",
    "    def test_schema_validation(self):\n",
    "        \"\"\"Test de la validation du schéma\"\"\"\n",
    "        # Document valide\n",
    "        valid_patient = {\n",
    "            'Name': 'Bobby JacksOn',\n",
    "            'Age': 30,\n",
    "            'Gender': 'Male',\n",
    "            'Blood Type': 'B-',\n",
    "            'Medical Condition': 'Cancer',\n",
    "            'Date of Admission': '2024-01-31',\n",
    "            'Doctor': 'Matthew Smith',\n",
    "            'Hospital': 'Sons and Miller',\n",
    "            'Insurance Provider': 'Blue Cross',\n",
    "            'Billing Amount': 18856.2813059782,\n",
    "            'Room Number': 328,\n",
    "            'Admission Type': 'Urgent',\n",
    "            'Discharge Date': '2024-02-02',\n",
    "            'Medication': 'Paracetamol',\n",
    "            'Test Results': 'Normal'\n",
    "        }\n",
    "        result = self.users.insert_one(valid_user)\n",
    "        self.assertTrue(result.inserted_id is not None)\n",
    "        \n",
    "        # Document invalide (age incorrect)\n",
    "        invalid_user = {\n",
    "            'Name': 'Coco Tello',\n",
    "            'Age': 150,\n",
    "            'Gender': 'Female',\n",
    "            'Blood Type': 'A',\n",
    "            'Medical Condition': 'Cancer',\n",
    "            'Date of Admission': '2024-01-31',\n",
    "            'Doctor': 'Matthew Smith',\n",
    "            'Hospital': 'Sons and Miller',\n",
    "            'Insurance Provider': 'Blue Cross',\n",
    "            'Billing Amount': 18856.2813059782,\n",
    "            'Room Number': 328,\n",
    "            'Admission Type': None,\n",
    "            'Discharge Date': '2024-02-02',\n",
    "            'Medication': None,\n",
    "            'Test Results': 'Normal'\n",
    "        }\n",
    "        with self.assertRaises(Exception):\n",
    "            self.users.insert_one(invalid_user)\n",
    "\n",
    "    def test_referential_integrity(self):\n",
    "        \"\"\"Test de l'intégrité référentielle\"\"\"\n",
    "        # Création d'une collection pour les posts\n",
    "        if \"patients\" in self.db.list_collection_names():\n",
    "            self.db.posts.drop()\n",
    "        self.db.create_collection(\"patients\")\n",
    "        \n",
    "        # Création d'un utilisateur\n",
    "        user = {\n",
    "            \"username\": \"test_user\",\n",
    "            \"email\": \"test@example.com\",\n",
    "            \"created_at\": datetime.utcnow()\n",
    "        }\n",
    "        user_id = self.users.insert_one(user).inserted_id\n",
    "        \n",
    "        # Création d'un post lié à l'utilisateur\n",
    "        post = {\n",
    "            \"title\": \"Test Post\",\n",
    "            \"user_id\": user_id,\n",
    "            \"content\": \"Test content\"\n",
    "        }\n",
    "        post_id = self.db.posts.insert_one(post).inserted_id\n",
    "        \n",
    "        # Vérification de l'intégrité référentielle\n",
    "        found_post = self.db.posts.find_one({\"_id\": post_id})\n",
    "        found_user = self.users.find_one({\"_id\": found_post[\"user_id\"]})\n",
    "        \n",
    "        self.assertIsNotNone(found_user)\n",
    "        self.assertEqual(found_user[\"username\"], \"test_user\")\n",
    "\n",
    "    def test_data_consistency(self):\n",
    "        \"\"\"Test de la cohérence des données\"\"\"\n",
    "        # Insertion de données de test\n",
    "        test_users = [\n",
    "            {\n",
    "                \"username\": f\"user_{i}\",\n",
    "                \"email\": f\"user{i}@example.com\",\n",
    "                \"age\": 20 + i,\n",
    "                \"created_at\": datetime.utcnow()\n",
    "            }\n",
    "            for i in range(5)\n",
    "        ]\n",
    "        \n",
    "        self.users.insert_many(test_users)\n",
    "        \n",
    "        # Vérification de l'unicité des usernames\n",
    "        usernames = self.users.distinct(\"username\")\n",
    "        self.assertEqual(len(usernames), 5)\n",
    "        \n",
    "        # Vérification des contraintes d'âge\n",
    "        invalid_age_count = self.users.count_documents({\n",
    "            \"age\": {\"$not\": {\"$gte\": 0, \"$lte\": 120}}\n",
    "        })\n",
    "        self.assertEqual(invalid_age_count, 0)\n",
    "\n",
    "    def test_email_format(self):\n",
    "        \"\"\"Test du format des emails\"\"\"\n",
    "        def is_valid_email(email):\n",
    "            pattern = r'^[a-zA-Z0-9._%+-]+@[a-zA-Z0-9.-]+\\.[a-zA-Z]{2,}$'\n",
    "            return bool(re.match(pattern, email))\n",
    "        \n",
    "        # Vérification de tous les emails\n",
    "        all_users = self.users.find({}, {\"email\": 1})\n",
    "        for user in all_users:\n",
    "            self.assertTrue(is_valid_email(user[\"email\"]))\n",
    "\n",
    "    def test_index_integrity(self):\n",
    "        \"\"\"Test de l'intégrité des index\"\"\"\n",
    "        # Création d'index uniques\n",
    "        self.users.create_index(\"username\", unique=True)\n",
    "        self.users.create_index(\"email\", unique=True)\n",
    "        \n",
    "        # Test de l'unicité\n",
    "        user1 = {\n",
    "            \"username\": \"unique_user\",\n",
    "            \"email\": \"unique@example.com\",\n",
    "            \"created_at\": datetime.utcnow()\n",
    "        }\n",
    "        \n",
    "        self.users.insert_one(user1)\n",
    "        \n",
    "        # Tentative d'insertion avec username dupliqué\n",
    "        user2 = {\n",
    "            \"username\": \"unique_user\",\n",
    "            \"email\": \"different@example.com\",\n",
    "            \"created_at\": datetime.utcnow()\n",
    "        }\n",
    "        \n",
    "        with self.assertRaises(Exception):\n",
    "            self.users.insert_one(user2)\n",
    "\n",
    "    @classmethod\n",
    "    def tearDownClass(cls):\n",
    "        \"\"\"Nettoyage après tous les tests\"\"\"\n",
    "        cls.db.users.drop()\n",
    "        cls.db.posts.drop()\n",
    "        cls.client.close()\n"
   ]
  }
 ],
 "metadata": {
  "kernelspec": {
   "display_name": "Python 3 (ipykernel)",
   "language": "python",
   "name": "python3"
  },
  "language_info": {
   "codemirror_mode": {
    "name": "ipython",
    "version": 3
   },
   "file_extension": ".py",
   "mimetype": "text/x-python",
   "name": "python",
   "nbconvert_exporter": "python",
   "pygments_lexer": "ipython3",
   "version": "3.11.7"
  }
 },
 "nbformat": 4,
 "nbformat_minor": 5
}
